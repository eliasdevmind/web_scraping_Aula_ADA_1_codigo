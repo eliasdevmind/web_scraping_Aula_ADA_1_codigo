{
  "nbformat": 4,
  "nbformat_minor": 0,
  "metadata": {
    "colab": {
      "provenance": [],
      "authorship_tag": "ABX9TyPE3pT7wjdCT6Q/YE444Fef",
      "include_colab_link": true
    },
    "kernelspec": {
      "name": "python3",
      "display_name": "Python 3"
    },
    "language_info": {
      "name": "python"
    }
  },
  "cells": [
    {
      "cell_type": "markdown",
      "metadata": {
        "id": "view-in-github",
        "colab_type": "text"
      },
      "source": [
        "<a href=\"https://colab.research.google.com/github/eliasdevmind/web_scraping_Aula_ADA_1_codigo/blob/main/AulaADA_BeautifulSoup.ipynb\" target=\"_parent\"><img src=\"https://colab.research.google.com/assets/colab-badge.svg\" alt=\"Open In Colab\"/></a>"
      ]
    },
    {
      "cell_type": "code",
      "execution_count": 1,
      "metadata": {
        "colab": {
          "base_uri": "https://localhost:8080/"
        },
        "id": "40SF-a5JX8kD",
        "outputId": "bdf4fcf1-5997-43e6-fa64-c92f797e7286"
      },
      "outputs": [
        {
          "output_type": "stream",
          "name": "stdout",
          "text": [
            "Requirement already satisfied: beautifulsoup4 in /usr/local/lib/python3.10/dist-packages (4.12.3)\n",
            "Requirement already satisfied: soupsieve>1.2 in /usr/local/lib/python3.10/dist-packages (from beautifulsoup4) (2.5)\n"
          ]
        }
      ],
      "source": [
        "pip install beautifulsoup4"
      ]
    },
    {
      "cell_type": "code",
      "source": [
        "from bs4 import BeautifulSoup"
      ],
      "metadata": {
        "id": "Fm7JadBAgCbU"
      },
      "execution_count": 2,
      "outputs": []
    },
    {
      "cell_type": "code",
      "source": [
        "html = \"\"\"<!DOCTYPE html>\n",
        "<html lang=\"pt-br\">\n",
        "<head>\n",
        "  <meta charset=\"UTF-8\">\n",
        "  <title>Exemplo HTML Básico</title>\n",
        "</head>\n",
        "<body>\n",
        "  <h1>Título Principal</h1>\n",
        "\n",
        "  <p>Este é um parágrafo de texto. Aqui você pode escrever frases e informações relevantes para o seu site.</p>\n",
        "\n",
        "  <a href=\"https://www.example.com\">Link para outro site</a>\n",
        "\n",
        "  <span class=\"destaque\">Texto em destaque</span>\n",
        "\n",
        "  <p>Este parágrafo utiliza um <span class=\"destaque\">termo em destaque</span> para chamar a atenção do leitor.</p>\n",
        "  <h3 class=\"texto\">TExto</h3>\n",
        "  <h6 id=\"teste\">Subtitulo</h6>\n",
        "\n",
        "</body>\n",
        "</html>\n",
        "\"\"\"\n",
        "html_parsed = BeautifulSoup(html, 'html.parser')"
      ],
      "metadata": {
        "id": "dKp6r8nGgREl"
      },
      "execution_count": 9,
      "outputs": []
    },
    {
      "cell_type": "code",
      "source": [
        "html_parsed"
      ],
      "metadata": {
        "colab": {
          "base_uri": "https://localhost:8080/"
        },
        "collapsed": true,
        "id": "uW-ALIkDiSA7",
        "outputId": "cbabbe8a-9ff7-437c-db1b-cbe1ade555cf"
      },
      "execution_count": 4,
      "outputs": [
        {
          "output_type": "execute_result",
          "data": {
            "text/plain": [
              "<!DOCTYPE html>\n",
              "\n",
              "<html lang=\"pt-br\">\n",
              "<head>\n",
              "<meta charset=\"utf-8\"/>\n",
              "<title>Exemplo HTML Básico</title>\n",
              "</head>\n",
              "<body>\n",
              "<h1>Título Principal</h1>\n",
              "<p>Este é um parágrafo de texto. Aqui você pode escrever frases e informações relevantes para o seu site.</p>\n",
              "<a href=\"https://www.example.com\">Link para outro site</a>\n",
              "<span class=\"destaque\">Texto em destaque</span>\n",
              "<p>Este parágrafo utiliza um <span class=\"destaque\">termo em destaque</span> para chamar a atenção do leitor.</p>\n",
              "</body>\n",
              "</html>"
            ]
          },
          "metadata": {},
          "execution_count": 4
        }
      ]
    },
    {
      "cell_type": "code",
      "source": [
        "print(html_parsed.prettify())"
      ],
      "metadata": {
        "colab": {
          "base_uri": "https://localhost:8080/"
        },
        "id": "qGLGu19Aifxb",
        "outputId": "bf0750dc-68cc-4c25-b3b9-2f5825bf5eb6"
      },
      "execution_count": 5,
      "outputs": [
        {
          "output_type": "stream",
          "name": "stdout",
          "text": [
            "<!DOCTYPE html>\n",
            "<html lang=\"pt-br\">\n",
            " <head>\n",
            "  <meta charset=\"utf-8\"/>\n",
            "  <title>\n",
            "   Exemplo HTML Básico\n",
            "  </title>\n",
            " </head>\n",
            " <body>\n",
            "  <h1>\n",
            "   Título Principal\n",
            "  </h1>\n",
            "  <p>\n",
            "   Este é um parágrafo de texto. Aqui você pode escrever frases e informações relevantes para o seu site.\n",
            "  </p>\n",
            "  <a href=\"https://www.example.com\">\n",
            "   Link para outro site\n",
            "  </a>\n",
            "  <span class=\"destaque\">\n",
            "   Texto em destaque\n",
            "  </span>\n",
            "  <p>\n",
            "   Este parágrafo utiliza um\n",
            "   <span class=\"destaque\">\n",
            "    termo em destaque\n",
            "   </span>\n",
            "   para chamar a atenção do leitor.\n",
            "  </p>\n",
            " </body>\n",
            "</html>\n",
            "\n"
          ]
        }
      ]
    },
    {
      "cell_type": "code",
      "source": [
        "html_parsed.find('h1')"
      ],
      "metadata": {
        "colab": {
          "base_uri": "https://localhost:8080/"
        },
        "id": "MnvYgi5Wi0PO",
        "outputId": "2f245b9d-5ee0-4eca-bd0b-2cd6ea98dd2a"
      },
      "execution_count": 6,
      "outputs": [
        {
          "output_type": "execute_result",
          "data": {
            "text/plain": [
              "<h1>Título Principal</h1>"
            ]
          },
          "metadata": {},
          "execution_count": 6
        }
      ]
    },
    {
      "cell_type": "code",
      "source": [
        "html_parsed.find_all('p')"
      ],
      "metadata": {
        "colab": {
          "base_uri": "https://localhost:8080/"
        },
        "id": "jpMfxeFyjNoD",
        "outputId": "33459ba9-a371-4ac5-ebea-a21f47860df2"
      },
      "execution_count": 8,
      "outputs": [
        {
          "output_type": "execute_result",
          "data": {
            "text/plain": [
              "[<p>Este é um parágrafo de texto. Aqui você pode escrever frases e informações relevantes para o seu site.</p>,\n",
              " <p>Este parágrafo utiliza um <span class=\"destaque\">termo em destaque</span> para chamar a atenção do leitor.</p>]"
            ]
          },
          "metadata": {},
          "execution_count": 8
        }
      ]
    },
    {
      "cell_type": "code",
      "source": [
        "print(html_parsed.find(id = 'teste'))\n",
        "print(html_parsed.find(class_ = 'texto'))"
      ],
      "metadata": {
        "colab": {
          "base_uri": "https://localhost:8080/"
        },
        "id": "QDV_QFOPpYTG",
        "outputId": "60aeecf7-89ce-4a93-9037-29bedc0750fb"
      },
      "execution_count": 14,
      "outputs": [
        {
          "output_type": "stream",
          "name": "stdout",
          "text": [
            "<h6 id=\"teste\">Subtitulo</h6>\n",
            "<h3 class=\"texto\">TExto</h3>\n"
          ]
        }
      ]
    }
  ]
}